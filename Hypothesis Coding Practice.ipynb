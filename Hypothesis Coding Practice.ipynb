{
 "cells": [
  {
   "cell_type": "markdown",
   "metadata": {},
   "source": [
    "## Valid customer IDs\n",
    "\n",
    "Simon runs a pharmaceutical factory. Only customers who have been pre-approved can enter the manufacturing facility and do a quality check for their order.\n",
    "The pre-approved customers get a customer ID which needs to be validated at entrance.\n",
    "\n",
    "A valid customer ID:\n",
    "-It will have groups of three characters separated by \"_\".\n",
    "-Can only contain numbers 0-9 and characters a-z and A-Z.(other than \"_\")\n",
    "-Contains 12 characters excluding the \"_\"\n",
    "-A character cannot be repeated more than thrice.\n",
    "\n",
    "You have to write Python code to check for valid customer IDs.\n",
    "The input will have a customer ID and the output should say \"valid\" if the entered ID is valid otherwise it should say \"invalid\".\n",
    "\n",
    "**Sample Input:**\n",
    "abc_123_2ac_Adf\n",
    "\n",
    "**Sample Output:**\n",
    "valid"
   ]
  },
  {
   "cell_type": "code",
   "execution_count": 1,
   "metadata": {},
   "outputs": [
    {
     "name": "stdout",
     "output_type": "stream",
     "text": [
      "abc_123_2ac_Adf\n",
      "valid\n"
     ]
    }
   ],
   "source": [
    "def validitycheck(cid):\n",
    "    #req1: a-z and 0-9 only \n",
    "    if not (cid.replace(\"_\",\"\").isalnum()):\n",
    "        return (\"invalid\")\n",
    "    #req2 & 3 :4 groups, each group has three characters with a-z, A-Z and 0-9\n",
    "    groups=cid.split(\"_\")\n",
    "    if len(groups)>4:\n",
    "        return (\"invalid\")\n",
    "    for group in groups:\n",
    "        if len(group)>3:\n",
    "            return (\"invalid\")\n",
    "    \n",
    "    #Req 5: repeating characters check\n",
    "    from collections import Counter\n",
    "    counts=dict(Counter(cid))\n",
    "    for key in counts.keys():\n",
    "        if counts.get(key)>3:\n",
    "            return(\"invalid\")\n",
    "    return(\"valid\")\n",
    "    \n",
    "cid=input()\n",
    "print(validitycheck(cid))"
   ]
  },
  {
   "cell_type": "markdown",
   "metadata": {},
   "source": [
    "## Password Validation\n",
    "\n",
    "Your company requires employees to set a strong password for their email accounts.\n",
    "\n",
    "The characteristics of a strong password include:\n",
    "\n",
    "1. it should be at least 8 characters long\n",
    "\n",
    "2. it should have one lowercase alphabet.\n",
    "\n",
    "3. it should have one uppercase alphabet\n",
    "\n",
    "4. it should have at least one number(0-9)\n",
    "\n",
    "5. it should have one special character( a special character is considered among the following: [@%$*])\n",
    "\n",
    "If the input is a valid password then print \"valid\" or else print \"invalid\".\n",
    "\n",
    "\n",
    "\n",
    "**Sample input:**\n",
    "\n",
    "DataScience123\n",
    "\n",
    "\n",
    "**Sample Output:**\n",
    "\n",
    "invalid"
   ]
  },
  {
   "cell_type": "code",
   "execution_count": 2,
   "metadata": {},
   "outputs": [
    {
     "name": "stdout",
     "output_type": "stream",
     "text": [
      "DataScience123\n",
      "invalid\n"
     ]
    }
   ],
   "source": [
    "pwd=input()\n",
    "import re\n",
    "if ((len(pwd)>=8) and (re.search(\"[a-z]\",pwd)) and (re.search(\"[A-Z]\",pwd)) and (re.search(\"[0-9]\",pwd)) and (re.search(\"[@%$*]\",pwd))):\n",
    "    print(\"valid\")\n",
    "else:\n",
    "    print(\"invalid\")"
   ]
  },
  {
   "cell_type": "markdown",
   "metadata": {},
   "source": [
    "## Divide the dataframe\n",
    "\n",
    "Write a Python program to slice a dataframe in a given ratio.\n",
    "For example: if the dataframe has 160 rows and you have to slice it in a ratio of 1:3, then the first part will have the first\n",
    "        40 rows(0-39) and the second part will have the next 120 rows(40-159).\n",
    "        \n",
    "The input will have two lines with the ratio to separate the dataframe in. For example, for 1:3, the input will be as follows:\n",
    "1\n",
    "3\n",
    "\n",
    "The output should contain the summary statistics(df.describe()) of both resulting dataframes in the respective order.\n",
    "Note: You can assume that the given ratio will split the dataframe exactly into two non-fractional parts.\n",
    "    \n",
    "**Sample Input:**\n",
    "10\n",
    "30\n"
   ]
  },
  {
   "cell_type": "code",
   "execution_count": 3,
   "metadata": {},
   "outputs": [
    {
     "name": "stdout",
     "output_type": "stream",
     "text": [
      "10\n",
      "35\n",
      "              Age        Fare       Parch  PassengerId      Pclass       SibSp\n",
      "count  148.000000  184.000000  185.000000   185.000000  185.000000  185.000000\n",
      "mean    30.902027   36.884873    0.394595   984.000000    2.281081    0.443243\n",
      "std     13.992911   58.578789    0.938878    53.549043    0.870357    0.799640\n",
      "min      1.000000    3.170800    0.000000   892.000000    1.000000    0.000000\n",
      "25%     22.000000    7.895800    0.000000   938.000000    1.000000    0.000000\n",
      "50%     27.000000   14.766650    0.000000   984.000000    3.000000    0.000000\n",
      "75%     39.250000   31.387500    0.000000  1030.000000    3.000000    1.000000\n",
      "max     76.000000  263.000000    6.000000  1076.000000    3.000000    5.000000\n",
      "              Age        Fare       Parch  PassengerId      Pclass       SibSp\n",
      "count  184.000000  233.000000  233.000000   233.000000  233.000000  233.000000\n",
      "mean    29.766304   34.633995    0.390558  1193.000000    2.253219    0.450644\n",
      "std     14.348833   53.811317    1.015949    67.405489    0.820166    0.968652\n",
      "min      0.170000    0.000000    0.000000  1077.000000    1.000000    0.000000\n",
      "25%     21.000000    7.887500    0.000000  1135.000000    2.000000    0.000000\n",
      "50%     27.500000   14.108300    0.000000  1193.000000    2.000000    0.000000\n",
      "75%     39.000000   31.500000    0.000000  1251.000000    3.000000    1.000000\n",
      "max     64.000000  512.329200    9.000000  1309.000000    3.000000    8.000000\n"
     ]
    }
   ],
   "source": [
    "import pandas as pd \n",
    "df=pd.read_csv(\"https://media-doselect.s3.amazonaws.com/generic/A0zOxQvk78ONwRgLZ1WYJOxWq/titaniMod2.csv\")\n",
    "a=int(input())\n",
    "b=int(input())\n",
    "c=int(a/(a+b)*len(df))\n",
    "print(df[:c].describe())\n",
    "print(df[c:].describe())"
   ]
  },
  {
   "cell_type": "markdown",
   "metadata": {},
   "source": [
    "## Flatten a dictionary\n",
    "\n",
    "Consider a nested dictionary as follows:\n",
    "{'Fruit': 1, 'Vegetable': {'Cabbage': 2, 'Cauliflower': 3}, 'Spices': 4}\n",
    "Your task is to flatten a nested dictionary and join the nested keys with the \"_\" character. For the above dictionary, the flattened dictionary would be as follows:\n",
    "{'Fruit': 1, 'Vegetable_Cabbage': 2, 'Vegetable_Cauliflower': 3, 'Spices': 4}\n",
    "\n",
    "The input will have a nested dictionary.\n",
    "The output should have two lists. The first list will have keys and the second list should have values. Both lists should be sorted.\n",
    "\n",
    "**Sample Input:**\n",
    "{'Fruit': 1, 'Vegetable': {'Cabbage': 2, 'Cauliflower': 3}, 'Spices': 4}\n",
    "\n",
    "**Sample Output:**\n",
    "['Fruit', 'Spices', 'Vegetable_Cabbage', 'Vegetable_Cauliflower']\n",
    "[1, 2, 3, 4]"
   ]
  },
  {
   "cell_type": "code",
   "execution_count": 7,
   "metadata": {},
   "outputs": [
    {
     "name": "stdout",
     "output_type": "stream",
     "text": [
      "['Fruit', 'Spices', 'Vegetable_Cabbage', 'Vegetable_Cauliflower']\n",
      "[1, 2, 3, 4]\n"
     ]
    }
   ],
   "source": [
    "#import ast,sys\n",
    "#input_str = sys.stdin.read()\n",
    "#input_dict = dict(ast.literal_eval(input_str))\n",
    "\n",
    "\n",
    "input_dict = {'Fruit': 1, 'Vegetable': {'Cabbage': 2, 'Cauliflower': 3}, 'Spices': 4}\n",
    "\n",
    "def flatten_dict(d):\n",
    "    def expand(key, value):\n",
    "        if isinstance(value, dict):\n",
    "            return [ (key + '_' + k, v) for k, v in flatten_dict(value).items() ]\n",
    "        else:\n",
    "            return [ (key, value) ]\n",
    "\n",
    "    items = [ item for k, v in d.items() for item in expand(k, v) ]\n",
    "\n",
    "    return dict(items)\n",
    "\n",
    "out1=list(flatten_dict(input_dict).keys())\n",
    "out2=list(flatten_dict(input_dict).values())\n",
    "out1.sort()\n",
    "out2.sort()\n",
    "print(out1)\n",
    "print(out2)"
   ]
  },
  {
   "cell_type": "markdown",
   "metadata": {},
   "source": [
    "## 2-Sample t-test\n",
    "\n",
    "Perform 2-sample t-tests on given columns of the dataframe.\n",
    "The input will contain the names of two columns to test in two lines and the output should have the p-value obtained from the paired two sample tests.\n",
    "\n",
    "**Sample Input:**\n",
    "city-mpg\n",
    "highway-mpg\n",
    "\n",
    "**Sample Output:**\n",
    "1.9665445899143185e-113"
   ]
  },
  {
   "cell_type": "code",
   "execution_count": 3,
   "metadata": {},
   "outputs": [
    {
     "name": "stdout",
     "output_type": "stream",
     "text": [
      "city-mpg\n",
      "highway-mpg\n",
      "1.9665445899143185e-113\n"
     ]
    }
   ],
   "source": [
    "import pandas as pd \n",
    "import scipy.stats\n",
    "df=pd.read_csv(\"https://media-doselect.s3.amazonaws.com/generic/K9WgyRZ75q4Pkdp38AQabgE0X/Automobile_data.csv\")\n",
    "col1=input()\n",
    "col2=input()\n",
    "print(scipy.stats.ttest_rel(df[col1],df[col2]).pvalue)"
   ]
  },
  {
   "cell_type": "markdown",
   "metadata": {},
   "source": [
    "## t-test on a column\n",
    "Perform a t-test on a given column of a given data frame. \n",
    "The input will contain the column name and the value of x, the mean value to test in two lines respectively. The output should contain the p-value obtained.\n",
    "\n",
    "**Sample Input:**\n",
    "CGPA\n",
    "8\n",
    "\n",
    "**Sample Output:**\n",
    "1.6070878523226457e-62"
   ]
  },
  {
   "cell_type": "code",
   "execution_count": 5,
   "metadata": {},
   "outputs": [
    {
     "name": "stdout",
     "output_type": "stream",
     "text": [
      "CGPA\n",
      "8\n",
      "1.6070878523226457e-62\n"
     ]
    }
   ],
   "source": [
    "import pandas as pd \n",
    "import scipy.stats\n",
    "df=pd.read_csv(\"https://media-doselect.s3.amazonaws.com/generic/5J7nrZegVWOORbGr4M7KVPXE5/Admission_Predict.csv\")\n",
    "col=input()\n",
    "x=float(input())\n",
    "print(scipy.stats.ttest_1samp(df[col], x).pvalue)"
   ]
  },
  {
   "cell_type": "markdown",
   "metadata": {},
   "source": [
    "## List Overlap\n",
    "\n",
    "Write Python code to find elements common between the two lists. \n",
    "The output list should exclude duplicate elements. i.e. if both lists have 1 twice then the output list should have 1 only once.\n",
    "The input will contain two lines with two lists.\n",
    "The output should contain a list of common elements between the two input lists.\n",
    "\n",
    "**Sample Input:**\n",
    "[1,2,3,4,5]\n",
    "[4,5,6,7,8]\n",
    "\n",
    "**Sample Output:**\n",
    "[4, 5]"
   ]
  },
  {
   "cell_type": "code",
   "execution_count": 7,
   "metadata": {},
   "outputs": [
    {
     "name": "stdout",
     "output_type": "stream",
     "text": [
      "[4, 5]\n"
     ]
    }
   ],
   "source": [
    "#import ast,sys\n",
    "#input_str = sys.stdin.read()\n",
    "#inp = ast.literal_eval(input_str)\n",
    "list1=[1,2,3,4,5]\n",
    "#first list\n",
    "\n",
    "list2= [4,5,6,7,8]\n",
    "#second list\n",
    "print(list(set(list1).intersection(set(list2))))\n"
   ]
  },
  {
   "cell_type": "markdown",
   "metadata": {},
   "source": [
    "## Sorting based on one column\n",
    "\n",
    "Given a dataframe, you have to sort the rows based on values of one column.\n",
    "Note: Sorting should be in descending order of values of given column\n",
    "    \n",
    "The input will contain a column name. The output should contain the first five rows of the dataframe.\n",
    "The output will contain the first n rows of the sorted dataframe.\n",
    "\n",
    "**Sample Input:**\n",
    "TOEFL Score"
   ]
  },
  {
   "cell_type": "code",
   "execution_count": 9,
   "metadata": {},
   "outputs": [
    {
     "name": "stdout",
     "output_type": "stream",
     "text": [
      "TOEFL Score\n",
      "     Serial No.  GRE Score  TOEFL Score  University Rating  SOP  LOR   CGPA  \\\n",
      "25           26        340          120                  5  4.5   4.5  9.60   \n",
      "97           98        331          120                  3  4.0   4.0  8.96   \n",
      "81           82        340          120                  4  5.0   5.0  9.50   \n",
      "202         203        340          120                  5  4.5   4.5  9.91   \n",
      "203         204        334          120                  5  4.0   5.0  9.87   \n",
      "\n",
      "     Research  Chance of Admit   \n",
      "25          1              0.94  \n",
      "97          1              0.86  \n",
      "81          1              0.96  \n",
      "202         1              0.97  \n",
      "203         1              0.97  \n"
     ]
    }
   ],
   "source": [
    "import pandas as pd \n",
    "col=input()\n",
    "df=pd.read_csv(\"https://media-doselect.s3.amazonaws.com/generic/RM8r5NBrJdA4QeVZXvwbjokwv/Admission_Predict.csv\")\n",
    "print(df.sort_values(by=[col],ascending=False).head())"
   ]
  },
  {
   "cell_type": "markdown",
   "metadata": {},
   "source": [
    "## Survival of?\n",
    "\n",
    "Given is a dataframe with data of passengers of the ship Titanic. \n",
    "Here, the \"Survived\" column has \"1\" if the passenger has survived. Otherwise, it contains \"0\". The Pclass column indicates the class the passenger was travelling in(1st class, 2nd class and so on).\n",
    "\n",
    "Write a Pandas program to create a Pivot table and find survival rate by the given column on various classes according to Pclass.\n",
    "\n",
    "**Sample Input:**\n",
    "Sex"
   ]
  },
  {
   "cell_type": "code",
   "execution_count": 11,
   "metadata": {},
   "outputs": [
    {
     "name": "stdout",
     "output_type": "stream",
     "text": [
      "Sex\n",
      "Pclass         1         2         3\n",
      "Sex                                 \n",
      "female  0.968085  0.921053  0.500000\n",
      "male    0.368852  0.157407  0.135447\n"
     ]
    }
   ],
   "source": [
    "import pandas as pd \n",
    "df=pd.read_csv(\"https://media-doselect.s3.amazonaws.com/generic/pLMXoA0GZNAPMRNrdnn88pOxb/train.csv\")\n",
    "col=input()\n",
    "print(df.pivot_table('Survived', index=[col], columns='Pclass'))"
   ]
  },
  {
   "cell_type": "code",
   "execution_count": null,
   "metadata": {},
   "outputs": [],
   "source": []
  }
 ],
 "metadata": {
  "kernelspec": {
   "display_name": "Python 3",
   "language": "python",
   "name": "python3"
  },
  "language_info": {
   "codemirror_mode": {
    "name": "ipython",
    "version": 3
   },
   "file_extension": ".py",
   "mimetype": "text/x-python",
   "name": "python",
   "nbconvert_exporter": "python",
   "pygments_lexer": "ipython3",
   "version": "3.8.5"
  }
 },
 "nbformat": 4,
 "nbformat_minor": 4
}
